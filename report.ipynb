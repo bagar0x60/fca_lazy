{
 "cells": [
  {
   "cell_type": "code",
   "execution_count": 1,
   "metadata": {},
   "outputs": [],
   "source": [
    "import pandas as pd\n",
    "import numpy as np\n",
    "from sklearn import model_selection\n",
    "from sklearn import metrics\n",
    "from datetime import datetime\n",
    "import sklearn.tree as tree\n",
    "from sklearn.linear_model import LogisticRegression\n",
    "import copy\n",
    "from sklearn.base import BaseEstimator, ClassifierMixin\n",
    "import random"
   ]
  },
  {
   "cell_type": "markdown",
   "metadata": {},
   "source": [
    "# Lazy FCA"
   ]
  },
  {
   "cell_type": "markdown",
   "metadata": {},
   "source": [
    "Оформим алгоритм `Lazy FCA` как класс, реализующий интерфейс пакета `sklearn` для ML моделей."
   ]
  },
  {
   "cell_type": "code",
   "execution_count": 2,
   "metadata": {},
   "outputs": [],
   "source": [
    "class LazyFCA(BaseEstimator, ClassifierMixin):\n",
    "    def __init__(\n",
    "        self, threshold=0.5, \n",
    "        random=False, sample_share=0.5, \n",
    "        bias='random', random_seed=None):\n",
    "        \n",
    "        self.threshold = threshold\n",
    "        self.random = random\n",
    "        self.sample_share = sample_share\n",
    "        self.bias = bias\n",
    "        self.random_seed = random_seed\n",
    "        self.binary_mapping = dict()\n",
    "    \n",
    "    def fit(self, X, y):\n",
    "        pd.options.mode.chained_assignment = None\n",
    "        X = self.scaled_X(X)\n",
    "        y = self.scaled_y(y)\n",
    "        self.positive_sample = X[y == 1]\n",
    "        self.negative_sample = X[y == 0]\n",
    "\n",
    "        if self.random:\n",
    "            sample_size = int(self.sample_share * self.positive_sample.shape[0])\n",
    "            self.positive_sample = self.positive_sample.sample(\n",
    "                    n=sample_size, random_state=self.random_seed)\n",
    "            self.negative_sample = self.negative_sample.sample(\n",
    "                    n=sample_size, random_state=self.random_seed)\n",
    "        \n",
    "        self.positive_obj = {}\n",
    "        self.negative_obj = {}\n",
    "        pos = self.positive_sample\n",
    "        neg = self.negative_sample\n",
    "        for i_col in X.columns:\n",
    "            self.positive_obj[i_col] = pos[i_col][pos[i_col] == 1].index\n",
    "            self.negative_obj[i_col] = neg[i_col][neg[i_col] == 1].index\n",
    "        \n",
    "    def predict(self, X):\n",
    "        pd.options.mode.chained_assignment = None\n",
    "        random.seed(self.random_seed)\n",
    "        X = self.scaled_X(X)\n",
    "        predictions = []\n",
    "        for i_obj in range(X.shape[0]):\n",
    "            i_extent = self.extent(X.iloc[i_obj])\n",
    "            support_pos  = self.calculate_support(i_extent, 'positive')\n",
    "            support_neg  = self.calculate_support(i_extent, 'negative')\n",
    "            \n",
    "            if support_neg == support_pos:\n",
    "                if self.bias == 'random':\n",
    "                    prediction = random.choice([True, False])\n",
    "                elif self.bias == 'positive':\n",
    "                    prediction = True\n",
    "                else:\n",
    "                    prediction = False\n",
    "            else: \n",
    "                prediction = support_pos > support_neg\n",
    "            predictions.append(self.binary_mapping[prediction])\n",
    "        return predictions\n",
    "    \n",
    "    def scaled_X(self, X_dataset):\n",
    "        intervals = 5\n",
    "        for i_col in X_dataset.columns:\n",
    "            values = list(X_dataset[i_col].unique())\n",
    "\n",
    "            if len(values) == 2 and 0 in values and 1 in values:\n",
    "                continue\n",
    "            elif len(values) == 1 and (0 in values or 1 in values):\n",
    "                continue\n",
    "            \n",
    "            elif len(values) <= 2 or X_dataset[i_col].dtypes == np.dtype('O'):\n",
    "                values = sorted(list(X_dataset[i_col].unique()))\n",
    "                for i_val in values:\n",
    "                    X_dataset['{}_{}'.format(i_col, i_val)]\\\n",
    "                        = (X_dataset[i_col] == i_val).astype(int)\n",
    "            \n",
    "            elif X_dataset[i_col].dtype == np.dtype('int64'):\n",
    "                min_val = X_dataset[i_col].min()\n",
    "                max_val = X_dataset[i_col].max()\n",
    "                gap = max_val - min_val\n",
    "                start = min_val + gap / intervals\n",
    "                finish = max_val - gap / intervals\n",
    "                k = 0\n",
    "                for i in np.linspace(start, finish, intervals):\n",
    "                    X_dataset['{}_{}'.format(i_col, k)]\\\n",
    "                        = (X_dataset[i_col] >= i).astype(int)\n",
    "                    k += 1\n",
    "\n",
    "            X_dataset.drop([i_col], axis=1, inplace = True)\n",
    "        return X_dataset\n",
    "    \n",
    "    def scaled_y(self, y_series):\n",
    "        values = sorted(y_series.unique())\n",
    "        if len(values) != 2:\n",
    "            raise Exception('Only a binary target feature is possible')\n",
    "        self.binary_mapping[False] = values[0]\n",
    "        self.binary_mapping[True] = values[1]\n",
    "        return (y_series == values[1]).astype(int)\n",
    "\n",
    "    def calculate_support(self, obj_ext, base):\n",
    "\n",
    "        base_sample = (self.positive_sample if base == 'positive' \n",
    "                else self.negative_sample)\n",
    "        review_sample = (self.negative_sample if base == 'positive' \n",
    "                else self.positive_sample)\n",
    "        review_obj = (self.negative_obj if base == 'positive' \n",
    "                else self.positive_obj)\n",
    "\n",
    "        res = 0\n",
    "        for _, i_obj in base_sample.iterrows():\n",
    "            i_inters = self.intersection(\n",
    "                obj_ext, self.extent(i_obj))\n",
    "            support_card = 0\n",
    "            if i_inters: \n",
    "                support = review_obj[i_inters[0]]\n",
    "                for i_col in i_inters:\n",
    "                    support = self.intersection(support, review_obj[i_col])\n",
    "                    if not support: break\n",
    "                support_card = len(support) / review_sample.shape[0]\n",
    "                if support_card < self.threshold:\n",
    "                    res += len(i_inters) / len(obj_ext)\n",
    "        \n",
    "        res = res / base_sample.shape[0]\n",
    "        return res\n",
    "\n",
    "    def extent(self, series):\n",
    "        return series[series == 1].index.tolist()\n",
    "\n",
    "    def intersection(self, L, R):\n",
    "        return [val for val in L if val in R]\n",
    "\n",
    "    def belongs(self, sub, base):\n",
    "        return len(self.intersection(sub, base)) == len(sub)"
   ]
  },
  {
   "cell_type": "markdown",
   "metadata": {},
   "source": [
    "# Tic-Tac-Toe Dataset"
   ]
  },
  {
   "cell_type": "markdown",
   "metadata": {},
   "source": [
    "Функция шкалирования для датасета по крестикам-ноликам"
   ]
  },
  {
   "cell_type": "code",
   "execution_count": 3,
   "metadata": {},
   "outputs": [],
   "source": [
    "def scale(dataset):\n",
    "    for i in range(9):\n",
    "        str_i = str(i + 1)\n",
    "        dataset['v' + str_i] = (dataset['V' + str_i] == 'x').astype(int)\n",
    "    dataset['v10'] = (dataset['V10'] == 'positive').astype(int)\n",
    "    dataset.drop(['V' + str(i+1) for i in range(10)], axis=1, inplace = True)\n",
    "    return dataset"
   ]
  },
  {
   "cell_type": "markdown",
   "metadata": {},
   "source": [
    "Функция тренерующая переданную модель `model` на датасете по крестикам-ноликам и вычисляющая точность предсказаний полученной модели."
   ]
  },
  {
   "cell_type": "code",
   "execution_count": 4,
   "metadata": {},
   "outputs": [],
   "source": [
    "def tic_tac_toe(model, progress_bar=False):\n",
    "    results = {'accuracy': [], 'precision': [], 'recall': [], 'f1': [], 'seconds': []}\n",
    "\n",
    "    for i in range(10):\n",
    "        if progress_bar:\n",
    "            print(f'Progress: {i + 1} / 10')\n",
    "\n",
    "        train_data = scale(pd.read_csv(f'tic-tac-toe/train{i + 1}.csv'))\n",
    "        X_train = train_data.iloc[:, :-1]\n",
    "        y_train = train_data.iloc[:, -1]\n",
    "\n",
    "        model.fit(X_train, y_train)\n",
    "\n",
    "        test_data = scale(pd.read_csv(f'tic-tac-toe/test{i + 1}.csv'))\n",
    "        X_test = test_data.iloc[:, :-1]\n",
    "        y_test = test_data.iloc[:, -1]\n",
    "\n",
    "        s = datetime.now()\n",
    "        y_pred = model.predict(X_test)\n",
    "        f = datetime.now()\n",
    "\n",
    "        results['accuracy'].append(metrics.accuracy_score(y_test, y_pred))\n",
    "        results['precision'].append(metrics.precision_score(y_test, y_pred))\n",
    "        results['recall'].append(metrics.recall_score(y_test, y_pred))\n",
    "        results['f1'].append(metrics.f1_score(y_test, y_pred))\n",
    "\n",
    "        results['seconds'].append((f - s).seconds)\n",
    "\n",
    "    return pd.DataFrame(results)"
   ]
  },
  {
   "cell_type": "markdown",
   "metadata": {},
   "source": [
    "## Lazy FCA"
   ]
  },
  {
   "cell_type": "markdown",
   "metadata": {},
   "source": [
    "Начнем с `Lazy FCA` натренерованной на $\\frac{1}{5}$ всего датасета."
   ]
  },
  {
   "cell_type": "code",
   "execution_count": 5,
   "metadata": {},
   "outputs": [
    {
     "output_type": "execute_result",
     "data": {
      "text/plain": [
       "   accuracy  precision  recall        f1  seconds\n",
       "0  1.000000   1.000000     1.0  1.000000        7\n",
       "1  0.988506   0.980769     1.0  0.990291        7\n",
       "2  0.990000   0.984848     1.0  0.992366        8\n",
       "3  0.966292   0.951613     1.0  0.975207        8\n",
       "4  0.988764   0.984127     1.0  0.992000        7\n",
       "5  0.988235   0.982456     1.0  0.991150        6\n",
       "6  0.973684   0.958904     1.0  0.979021       10\n",
       "7  1.000000   1.000000     1.0  1.000000        9\n",
       "8  1.000000   1.000000     1.0  1.000000        9\n",
       "9  0.989011   0.983333     1.0  0.991597        6"
      ],
      "text/html": "<div>\n<style scoped>\n    .dataframe tbody tr th:only-of-type {\n        vertical-align: middle;\n    }\n\n    .dataframe tbody tr th {\n        vertical-align: top;\n    }\n\n    .dataframe thead th {\n        text-align: right;\n    }\n</style>\n<table border=\"1\" class=\"dataframe\">\n  <thead>\n    <tr style=\"text-align: right;\">\n      <th></th>\n      <th>accuracy</th>\n      <th>precision</th>\n      <th>recall</th>\n      <th>f1</th>\n      <th>seconds</th>\n    </tr>\n  </thead>\n  <tbody>\n    <tr>\n      <th>0</th>\n      <td>1.000000</td>\n      <td>1.000000</td>\n      <td>1.0</td>\n      <td>1.000000</td>\n      <td>7</td>\n    </tr>\n    <tr>\n      <th>1</th>\n      <td>0.988506</td>\n      <td>0.980769</td>\n      <td>1.0</td>\n      <td>0.990291</td>\n      <td>7</td>\n    </tr>\n    <tr>\n      <th>2</th>\n      <td>0.990000</td>\n      <td>0.984848</td>\n      <td>1.0</td>\n      <td>0.992366</td>\n      <td>8</td>\n    </tr>\n    <tr>\n      <th>3</th>\n      <td>0.966292</td>\n      <td>0.951613</td>\n      <td>1.0</td>\n      <td>0.975207</td>\n      <td>8</td>\n    </tr>\n    <tr>\n      <th>4</th>\n      <td>0.988764</td>\n      <td>0.984127</td>\n      <td>1.0</td>\n      <td>0.992000</td>\n      <td>7</td>\n    </tr>\n    <tr>\n      <th>5</th>\n      <td>0.988235</td>\n      <td>0.982456</td>\n      <td>1.0</td>\n      <td>0.991150</td>\n      <td>6</td>\n    </tr>\n    <tr>\n      <th>6</th>\n      <td>0.973684</td>\n      <td>0.958904</td>\n      <td>1.0</td>\n      <td>0.979021</td>\n      <td>10</td>\n    </tr>\n    <tr>\n      <th>7</th>\n      <td>1.000000</td>\n      <td>1.000000</td>\n      <td>1.0</td>\n      <td>1.000000</td>\n      <td>9</td>\n    </tr>\n    <tr>\n      <th>8</th>\n      <td>1.000000</td>\n      <td>1.000000</td>\n      <td>1.0</td>\n      <td>1.000000</td>\n      <td>9</td>\n    </tr>\n    <tr>\n      <th>9</th>\n      <td>0.989011</td>\n      <td>0.983333</td>\n      <td>1.0</td>\n      <td>0.991597</td>\n      <td>6</td>\n    </tr>\n  </tbody>\n</table>\n</div>"
     },
     "metadata": {},
     "execution_count": 5
    }
   ],
   "source": [
    "model = LazyFCA(\n",
    "    threshold=0.000001, bias='negative', \n",
    "    random=True, sample_share=0.2, random_seed=1)\n",
    "tic_tac_toe(model)"
   ]
  },
  {
   "cell_type": "markdown",
   "metadata": {},
   "source": [
    "Теперь посмотрим на `Lazy FCA` на полном датасете."
   ]
  },
  {
   "cell_type": "code",
   "execution_count": 6,
   "metadata": {},
   "outputs": [
    {
     "output_type": "execute_result",
     "data": {
      "text/plain": [
       "   accuracy  precision  recall   f1  seconds\n",
       "0       1.0        1.0     1.0  1.0       35\n",
       "1       1.0        1.0     1.0  1.0       37\n",
       "2       1.0        1.0     1.0  1.0       40\n",
       "3       1.0        1.0     1.0  1.0       34\n",
       "4       1.0        1.0     1.0  1.0       47\n",
       "5       1.0        1.0     1.0  1.0       33\n",
       "6       1.0        1.0     1.0  1.0       40\n",
       "7       1.0        1.0     1.0  1.0       43\n",
       "8       1.0        1.0     1.0  1.0       36\n",
       "9       1.0        1.0     1.0  1.0       34"
      ],
      "text/html": "<div>\n<style scoped>\n    .dataframe tbody tr th:only-of-type {\n        vertical-align: middle;\n    }\n\n    .dataframe tbody tr th {\n        vertical-align: top;\n    }\n\n    .dataframe thead th {\n        text-align: right;\n    }\n</style>\n<table border=\"1\" class=\"dataframe\">\n  <thead>\n    <tr style=\"text-align: right;\">\n      <th></th>\n      <th>accuracy</th>\n      <th>precision</th>\n      <th>recall</th>\n      <th>f1</th>\n      <th>seconds</th>\n    </tr>\n  </thead>\n  <tbody>\n    <tr>\n      <th>0</th>\n      <td>1.0</td>\n      <td>1.0</td>\n      <td>1.0</td>\n      <td>1.0</td>\n      <td>35</td>\n    </tr>\n    <tr>\n      <th>1</th>\n      <td>1.0</td>\n      <td>1.0</td>\n      <td>1.0</td>\n      <td>1.0</td>\n      <td>37</td>\n    </tr>\n    <tr>\n      <th>2</th>\n      <td>1.0</td>\n      <td>1.0</td>\n      <td>1.0</td>\n      <td>1.0</td>\n      <td>40</td>\n    </tr>\n    <tr>\n      <th>3</th>\n      <td>1.0</td>\n      <td>1.0</td>\n      <td>1.0</td>\n      <td>1.0</td>\n      <td>34</td>\n    </tr>\n    <tr>\n      <th>4</th>\n      <td>1.0</td>\n      <td>1.0</td>\n      <td>1.0</td>\n      <td>1.0</td>\n      <td>47</td>\n    </tr>\n    <tr>\n      <th>5</th>\n      <td>1.0</td>\n      <td>1.0</td>\n      <td>1.0</td>\n      <td>1.0</td>\n      <td>33</td>\n    </tr>\n    <tr>\n      <th>6</th>\n      <td>1.0</td>\n      <td>1.0</td>\n      <td>1.0</td>\n      <td>1.0</td>\n      <td>40</td>\n    </tr>\n    <tr>\n      <th>7</th>\n      <td>1.0</td>\n      <td>1.0</td>\n      <td>1.0</td>\n      <td>1.0</td>\n      <td>43</td>\n    </tr>\n    <tr>\n      <th>8</th>\n      <td>1.0</td>\n      <td>1.0</td>\n      <td>1.0</td>\n      <td>1.0</td>\n      <td>36</td>\n    </tr>\n    <tr>\n      <th>9</th>\n      <td>1.0</td>\n      <td>1.0</td>\n      <td>1.0</td>\n      <td>1.0</td>\n      <td>34</td>\n    </tr>\n  </tbody>\n</table>\n</div>"
     },
     "metadata": {},
     "execution_count": 6
    }
   ],
   "source": [
    "model = LazyFCA(threshold=0.000001, bias='negative')\n",
    "tic_tac_toe(model)"
   ]
  },
  {
   "cell_type": "markdown",
   "metadata": {},
   "source": [
    "### Decision Tree"
   ]
  },
  {
   "cell_type": "markdown",
   "metadata": {},
   "source": [
    "Сравним результаты `Lazy FCA` с классической моделью `Decision Tree`"
   ]
  },
  {
   "cell_type": "code",
   "execution_count": 7,
   "metadata": {},
   "outputs": [
    {
     "output_type": "execute_result",
     "data": {
      "text/plain": [
       "   accuracy  precision    recall        f1  seconds\n",
       "0  0.989247   1.000000  0.983607  0.991736        0\n",
       "1  0.954023   0.979592  0.941176  0.960000        0\n",
       "2  0.990000   0.984848  1.000000  0.992366        0\n",
       "3  0.988764   1.000000  0.983051  0.991453        0\n",
       "4  0.988764   1.000000  0.983871  0.991870        0\n",
       "5  0.988235   0.982456  1.000000  0.991150        0\n",
       "6  1.000000   1.000000  1.000000  1.000000        0\n",
       "7  0.971963   0.972973  0.986301  0.979592        0\n",
       "8  0.990291   1.000000  0.985714  0.992806        0\n",
       "9  0.989011   1.000000  0.983051  0.991453        0"
      ],
      "text/html": "<div>\n<style scoped>\n    .dataframe tbody tr th:only-of-type {\n        vertical-align: middle;\n    }\n\n    .dataframe tbody tr th {\n        vertical-align: top;\n    }\n\n    .dataframe thead th {\n        text-align: right;\n    }\n</style>\n<table border=\"1\" class=\"dataframe\">\n  <thead>\n    <tr style=\"text-align: right;\">\n      <th></th>\n      <th>accuracy</th>\n      <th>precision</th>\n      <th>recall</th>\n      <th>f1</th>\n      <th>seconds</th>\n    </tr>\n  </thead>\n  <tbody>\n    <tr>\n      <th>0</th>\n      <td>0.989247</td>\n      <td>1.000000</td>\n      <td>0.983607</td>\n      <td>0.991736</td>\n      <td>0</td>\n    </tr>\n    <tr>\n      <th>1</th>\n      <td>0.954023</td>\n      <td>0.979592</td>\n      <td>0.941176</td>\n      <td>0.960000</td>\n      <td>0</td>\n    </tr>\n    <tr>\n      <th>2</th>\n      <td>0.990000</td>\n      <td>0.984848</td>\n      <td>1.000000</td>\n      <td>0.992366</td>\n      <td>0</td>\n    </tr>\n    <tr>\n      <th>3</th>\n      <td>0.988764</td>\n      <td>1.000000</td>\n      <td>0.983051</td>\n      <td>0.991453</td>\n      <td>0</td>\n    </tr>\n    <tr>\n      <th>4</th>\n      <td>0.988764</td>\n      <td>1.000000</td>\n      <td>0.983871</td>\n      <td>0.991870</td>\n      <td>0</td>\n    </tr>\n    <tr>\n      <th>5</th>\n      <td>0.988235</td>\n      <td>0.982456</td>\n      <td>1.000000</td>\n      <td>0.991150</td>\n      <td>0</td>\n    </tr>\n    <tr>\n      <th>6</th>\n      <td>1.000000</td>\n      <td>1.000000</td>\n      <td>1.000000</td>\n      <td>1.000000</td>\n      <td>0</td>\n    </tr>\n    <tr>\n      <th>7</th>\n      <td>0.971963</td>\n      <td>0.972973</td>\n      <td>0.986301</td>\n      <td>0.979592</td>\n      <td>0</td>\n    </tr>\n    <tr>\n      <th>8</th>\n      <td>0.990291</td>\n      <td>1.000000</td>\n      <td>0.985714</td>\n      <td>0.992806</td>\n      <td>0</td>\n    </tr>\n    <tr>\n      <th>9</th>\n      <td>0.989011</td>\n      <td>1.000000</td>\n      <td>0.983051</td>\n      <td>0.991453</td>\n      <td>0</td>\n    </tr>\n  </tbody>\n</table>\n</div>"
     },
     "metadata": {},
     "execution_count": 7
    }
   ],
   "source": [
    "model = tree.DecisionTreeClassifier(criterion='entropy')\n",
    "\n",
    "tic_tac_toe(model)"
   ]
  },
  {
   "cell_type": "markdown",
   "metadata": {},
   "source": [
    "Даже модель, натренированная на 20% от всех данных оказалась лучше дерева решений, а полная модель достигла абсолютной точности."
   ]
  },
  {
   "cell_type": "markdown",
   "metadata": {},
   "source": [
    "# Titanic Dataset"
   ]
  },
  {
   "cell_type": "markdown",
   "metadata": {},
   "source": [
    "Рассмотрим теперь работу `Lazy FCA` на знаменитом датасете - данных о смертности пассажиров Титаника, и сравним полученную точность с точностью логистической регрессии."
   ]
  },
  {
   "cell_type": "code",
   "execution_count": 8,
   "metadata": {},
   "outputs": [
    {
     "output_type": "execute_result",
     "data": {
      "text/plain": [
       "     target  Pclass     Sex   Age  SibSp  Parch     Fare Embarked\n",
       "0         0       3    male  22.0      1      0   7.2500        S\n",
       "1         1       1  female  38.0      1      0  71.2833        C\n",
       "2         1       3  female  26.0      0      0   7.9250        S\n",
       "3         1       1  female  35.0      1      0  53.1000        S\n",
       "4         0       3    male  35.0      0      0   8.0500        S\n",
       "..      ...     ...     ...   ...    ...    ...      ...      ...\n",
       "885       0       3  female  39.0      0      5  29.1250        Q\n",
       "886       0       2    male  27.0      0      0  13.0000        S\n",
       "887       1       1  female  19.0      0      0  30.0000        S\n",
       "889       1       1    male  26.0      0      0  30.0000        C\n",
       "890       0       3    male  32.0      0      0   7.7500        Q\n",
       "\n",
       "[712 rows x 8 columns]"
      ],
      "text/html": "<div>\n<style scoped>\n    .dataframe tbody tr th:only-of-type {\n        vertical-align: middle;\n    }\n\n    .dataframe tbody tr th {\n        vertical-align: top;\n    }\n\n    .dataframe thead th {\n        text-align: right;\n    }\n</style>\n<table border=\"1\" class=\"dataframe\">\n  <thead>\n    <tr style=\"text-align: right;\">\n      <th></th>\n      <th>target</th>\n      <th>Pclass</th>\n      <th>Sex</th>\n      <th>Age</th>\n      <th>SibSp</th>\n      <th>Parch</th>\n      <th>Fare</th>\n      <th>Embarked</th>\n    </tr>\n  </thead>\n  <tbody>\n    <tr>\n      <th>0</th>\n      <td>0</td>\n      <td>3</td>\n      <td>male</td>\n      <td>22.0</td>\n      <td>1</td>\n      <td>0</td>\n      <td>7.2500</td>\n      <td>S</td>\n    </tr>\n    <tr>\n      <th>1</th>\n      <td>1</td>\n      <td>1</td>\n      <td>female</td>\n      <td>38.0</td>\n      <td>1</td>\n      <td>0</td>\n      <td>71.2833</td>\n      <td>C</td>\n    </tr>\n    <tr>\n      <th>2</th>\n      <td>1</td>\n      <td>3</td>\n      <td>female</td>\n      <td>26.0</td>\n      <td>0</td>\n      <td>0</td>\n      <td>7.9250</td>\n      <td>S</td>\n    </tr>\n    <tr>\n      <th>3</th>\n      <td>1</td>\n      <td>1</td>\n      <td>female</td>\n      <td>35.0</td>\n      <td>1</td>\n      <td>0</td>\n      <td>53.1000</td>\n      <td>S</td>\n    </tr>\n    <tr>\n      <th>4</th>\n      <td>0</td>\n      <td>3</td>\n      <td>male</td>\n      <td>35.0</td>\n      <td>0</td>\n      <td>0</td>\n      <td>8.0500</td>\n      <td>S</td>\n    </tr>\n    <tr>\n      <th>...</th>\n      <td>...</td>\n      <td>...</td>\n      <td>...</td>\n      <td>...</td>\n      <td>...</td>\n      <td>...</td>\n      <td>...</td>\n      <td>...</td>\n    </tr>\n    <tr>\n      <th>885</th>\n      <td>0</td>\n      <td>3</td>\n      <td>female</td>\n      <td>39.0</td>\n      <td>0</td>\n      <td>5</td>\n      <td>29.1250</td>\n      <td>Q</td>\n    </tr>\n    <tr>\n      <th>886</th>\n      <td>0</td>\n      <td>2</td>\n      <td>male</td>\n      <td>27.0</td>\n      <td>0</td>\n      <td>0</td>\n      <td>13.0000</td>\n      <td>S</td>\n    </tr>\n    <tr>\n      <th>887</th>\n      <td>1</td>\n      <td>1</td>\n      <td>female</td>\n      <td>19.0</td>\n      <td>0</td>\n      <td>0</td>\n      <td>30.0000</td>\n      <td>S</td>\n    </tr>\n    <tr>\n      <th>889</th>\n      <td>1</td>\n      <td>1</td>\n      <td>male</td>\n      <td>26.0</td>\n      <td>0</td>\n      <td>0</td>\n      <td>30.0000</td>\n      <td>C</td>\n    </tr>\n    <tr>\n      <th>890</th>\n      <td>0</td>\n      <td>3</td>\n      <td>male</td>\n      <td>32.0</td>\n      <td>0</td>\n      <td>0</td>\n      <td>7.7500</td>\n      <td>Q</td>\n    </tr>\n  </tbody>\n</table>\n<p>712 rows × 8 columns</p>\n</div>"
     },
     "metadata": {},
     "execution_count": 8
    }
   ],
   "source": [
    "titanic_data = pd.read_csv('titanic/train.csv')\\\n",
    "    .drop(columns=['Name', 'Ticket', 'PassengerId', 'Cabin'])\\\n",
    "    .dropna()\\\n",
    "    .rename(columns={\"Survived\": \"target\"})\n",
    "titanic_data"
   ]
  },
  {
   "cell_type": "markdown",
   "metadata": {},
   "source": [
    "Шкалирование численных и категориальных данных. Численные разбиваются на `intervals` равных интервалов и для каждого интервала создается своя фича. В категориальных данных для каждой категории создается своя фича."
   ]
  },
  {
   "cell_type": "code",
   "execution_count": 9,
   "metadata": {},
   "outputs": [],
   "source": [
    "def scaling(data, numeric, categorical, intervals=5):\n",
    "    for attr in numeric:\n",
    "        min_val = data[attr].min()\n",
    "        max_val = data[attr].max()\n",
    "        gap = max_val - min_val\n",
    "        k = 0\n",
    "        for i in np.linspace(min_val + gap / intervals, max_val - gap / intervals, intervals):\n",
    "            data[attr + '_' + str(k)] = (data[attr] >= i).astype(int)\n",
    "            k += 1\n",
    "        data = data.drop(attr, axis=1)\n",
    "        \n",
    "    for attr in categorical:\n",
    "        for i in data[attr].unique():\n",
    "            data[attr + '_' + str(i)] = (data[attr] == i).astype(int)\n",
    "        data = data.drop(attr, axis=1)\n",
    "    return data"
   ]
  },
  {
   "cell_type": "code",
   "execution_count": 10,
   "metadata": {},
   "outputs": [
    {
     "output_type": "execute_result",
     "data": {
      "text/plain": [
       "     target  Age_0  Age_1  Age_2  Age_3  Age_4  Fare_0  Fare_1  Fare_2  \\\n",
       "0         0      1      0      0      0      0       0       0       0   \n",
       "1         1      1      1      0      0      0       0       0       0   \n",
       "2         1      1      0      0      0      0       0       0       0   \n",
       "3         1      1      1      0      0      0       0       0       0   \n",
       "4         0      1      1      0      0      0       0       0       0   \n",
       "..      ...    ...    ...    ...    ...    ...     ...     ...     ...   \n",
       "885       0      1      1      0      0      0       0       0       0   \n",
       "886       0      1      0      0      0      0       0       0       0   \n",
       "887       1      1      0      0      0      0       0       0       0   \n",
       "889       1      1      0      0      0      0       0       0       0   \n",
       "890       0      1      1      0      0      0       0       0       0   \n",
       "\n",
       "     Fare_3  ...  Parch_0  Parch_1  Parch_2  Parch_5  Parch_3  Parch_4  \\\n",
       "0         0  ...        1        0        0        0        0        0   \n",
       "1         0  ...        1        0        0        0        0        0   \n",
       "2         0  ...        1        0        0        0        0        0   \n",
       "3         0  ...        1        0        0        0        0        0   \n",
       "4         0  ...        1        0        0        0        0        0   \n",
       "..      ...  ...      ...      ...      ...      ...      ...      ...   \n",
       "885       0  ...        0        0        0        1        0        0   \n",
       "886       0  ...        1        0        0        0        0        0   \n",
       "887       0  ...        1        0        0        0        0        0   \n",
       "889       0  ...        1        0        0        0        0        0   \n",
       "890       0  ...        1        0        0        0        0        0   \n",
       "\n",
       "     Parch_6  Embarked_S  Embarked_C  Embarked_Q  \n",
       "0          0           1           0           0  \n",
       "1          0           0           1           0  \n",
       "2          0           1           0           0  \n",
       "3          0           1           0           0  \n",
       "4          0           1           0           0  \n",
       "..       ...         ...         ...         ...  \n",
       "885        0           0           0           1  \n",
       "886        0           1           0           0  \n",
       "887        0           1           0           0  \n",
       "889        0           0           1           0  \n",
       "890        0           0           0           1  \n",
       "\n",
       "[712 rows x 32 columns]"
      ],
      "text/html": "<div>\n<style scoped>\n    .dataframe tbody tr th:only-of-type {\n        vertical-align: middle;\n    }\n\n    .dataframe tbody tr th {\n        vertical-align: top;\n    }\n\n    .dataframe thead th {\n        text-align: right;\n    }\n</style>\n<table border=\"1\" class=\"dataframe\">\n  <thead>\n    <tr style=\"text-align: right;\">\n      <th></th>\n      <th>target</th>\n      <th>Age_0</th>\n      <th>Age_1</th>\n      <th>Age_2</th>\n      <th>Age_3</th>\n      <th>Age_4</th>\n      <th>Fare_0</th>\n      <th>Fare_1</th>\n      <th>Fare_2</th>\n      <th>Fare_3</th>\n      <th>...</th>\n      <th>Parch_0</th>\n      <th>Parch_1</th>\n      <th>Parch_2</th>\n      <th>Parch_5</th>\n      <th>Parch_3</th>\n      <th>Parch_4</th>\n      <th>Parch_6</th>\n      <th>Embarked_S</th>\n      <th>Embarked_C</th>\n      <th>Embarked_Q</th>\n    </tr>\n  </thead>\n  <tbody>\n    <tr>\n      <th>0</th>\n      <td>0</td>\n      <td>1</td>\n      <td>0</td>\n      <td>0</td>\n      <td>0</td>\n      <td>0</td>\n      <td>0</td>\n      <td>0</td>\n      <td>0</td>\n      <td>0</td>\n      <td>...</td>\n      <td>1</td>\n      <td>0</td>\n      <td>0</td>\n      <td>0</td>\n      <td>0</td>\n      <td>0</td>\n      <td>0</td>\n      <td>1</td>\n      <td>0</td>\n      <td>0</td>\n    </tr>\n    <tr>\n      <th>1</th>\n      <td>1</td>\n      <td>1</td>\n      <td>1</td>\n      <td>0</td>\n      <td>0</td>\n      <td>0</td>\n      <td>0</td>\n      <td>0</td>\n      <td>0</td>\n      <td>0</td>\n      <td>...</td>\n      <td>1</td>\n      <td>0</td>\n      <td>0</td>\n      <td>0</td>\n      <td>0</td>\n      <td>0</td>\n      <td>0</td>\n      <td>0</td>\n      <td>1</td>\n      <td>0</td>\n    </tr>\n    <tr>\n      <th>2</th>\n      <td>1</td>\n      <td>1</td>\n      <td>0</td>\n      <td>0</td>\n      <td>0</td>\n      <td>0</td>\n      <td>0</td>\n      <td>0</td>\n      <td>0</td>\n      <td>0</td>\n      <td>...</td>\n      <td>1</td>\n      <td>0</td>\n      <td>0</td>\n      <td>0</td>\n      <td>0</td>\n      <td>0</td>\n      <td>0</td>\n      <td>1</td>\n      <td>0</td>\n      <td>0</td>\n    </tr>\n    <tr>\n      <th>3</th>\n      <td>1</td>\n      <td>1</td>\n      <td>1</td>\n      <td>0</td>\n      <td>0</td>\n      <td>0</td>\n      <td>0</td>\n      <td>0</td>\n      <td>0</td>\n      <td>0</td>\n      <td>...</td>\n      <td>1</td>\n      <td>0</td>\n      <td>0</td>\n      <td>0</td>\n      <td>0</td>\n      <td>0</td>\n      <td>0</td>\n      <td>1</td>\n      <td>0</td>\n      <td>0</td>\n    </tr>\n    <tr>\n      <th>4</th>\n      <td>0</td>\n      <td>1</td>\n      <td>1</td>\n      <td>0</td>\n      <td>0</td>\n      <td>0</td>\n      <td>0</td>\n      <td>0</td>\n      <td>0</td>\n      <td>0</td>\n      <td>...</td>\n      <td>1</td>\n      <td>0</td>\n      <td>0</td>\n      <td>0</td>\n      <td>0</td>\n      <td>0</td>\n      <td>0</td>\n      <td>1</td>\n      <td>0</td>\n      <td>0</td>\n    </tr>\n    <tr>\n      <th>...</th>\n      <td>...</td>\n      <td>...</td>\n      <td>...</td>\n      <td>...</td>\n      <td>...</td>\n      <td>...</td>\n      <td>...</td>\n      <td>...</td>\n      <td>...</td>\n      <td>...</td>\n      <td>...</td>\n      <td>...</td>\n      <td>...</td>\n      <td>...</td>\n      <td>...</td>\n      <td>...</td>\n      <td>...</td>\n      <td>...</td>\n      <td>...</td>\n      <td>...</td>\n      <td>...</td>\n    </tr>\n    <tr>\n      <th>885</th>\n      <td>0</td>\n      <td>1</td>\n      <td>1</td>\n      <td>0</td>\n      <td>0</td>\n      <td>0</td>\n      <td>0</td>\n      <td>0</td>\n      <td>0</td>\n      <td>0</td>\n      <td>...</td>\n      <td>0</td>\n      <td>0</td>\n      <td>0</td>\n      <td>1</td>\n      <td>0</td>\n      <td>0</td>\n      <td>0</td>\n      <td>0</td>\n      <td>0</td>\n      <td>1</td>\n    </tr>\n    <tr>\n      <th>886</th>\n      <td>0</td>\n      <td>1</td>\n      <td>0</td>\n      <td>0</td>\n      <td>0</td>\n      <td>0</td>\n      <td>0</td>\n      <td>0</td>\n      <td>0</td>\n      <td>0</td>\n      <td>...</td>\n      <td>1</td>\n      <td>0</td>\n      <td>0</td>\n      <td>0</td>\n      <td>0</td>\n      <td>0</td>\n      <td>0</td>\n      <td>1</td>\n      <td>0</td>\n      <td>0</td>\n    </tr>\n    <tr>\n      <th>887</th>\n      <td>1</td>\n      <td>1</td>\n      <td>0</td>\n      <td>0</td>\n      <td>0</td>\n      <td>0</td>\n      <td>0</td>\n      <td>0</td>\n      <td>0</td>\n      <td>0</td>\n      <td>...</td>\n      <td>1</td>\n      <td>0</td>\n      <td>0</td>\n      <td>0</td>\n      <td>0</td>\n      <td>0</td>\n      <td>0</td>\n      <td>1</td>\n      <td>0</td>\n      <td>0</td>\n    </tr>\n    <tr>\n      <th>889</th>\n      <td>1</td>\n      <td>1</td>\n      <td>0</td>\n      <td>0</td>\n      <td>0</td>\n      <td>0</td>\n      <td>0</td>\n      <td>0</td>\n      <td>0</td>\n      <td>0</td>\n      <td>...</td>\n      <td>1</td>\n      <td>0</td>\n      <td>0</td>\n      <td>0</td>\n      <td>0</td>\n      <td>0</td>\n      <td>0</td>\n      <td>0</td>\n      <td>1</td>\n      <td>0</td>\n    </tr>\n    <tr>\n      <th>890</th>\n      <td>0</td>\n      <td>1</td>\n      <td>1</td>\n      <td>0</td>\n      <td>0</td>\n      <td>0</td>\n      <td>0</td>\n      <td>0</td>\n      <td>0</td>\n      <td>0</td>\n      <td>...</td>\n      <td>1</td>\n      <td>0</td>\n      <td>0</td>\n      <td>0</td>\n      <td>0</td>\n      <td>0</td>\n      <td>0</td>\n      <td>0</td>\n      <td>0</td>\n      <td>1</td>\n    </tr>\n  </tbody>\n</table>\n<p>712 rows × 32 columns</p>\n</div>"
     },
     "metadata": {},
     "execution_count": 10
    }
   ],
   "source": [
    "titanic_data = scaling(titanic_data, numeric=['Age', 'Fare'], categorical=['Pclass', 'Sex', 'SibSp', 'Parch', 'Embarked'])\n",
    "titanic_data"
   ]
  },
  {
   "cell_type": "markdown",
   "metadata": {},
   "source": [
    "Функция тренерующая переданную модель `model` на датасете по пассажирам титаника и вычисляющая точность предсказаний полученной модели."
   ]
  },
  {
   "cell_type": "code",
   "execution_count": 11,
   "metadata": {},
   "outputs": [],
   "source": [
    "def titanc(model, progress_bar=False):\n",
    "    columns = list(titanic_data.columns)\n",
    "    columns.remove('target')\n",
    "\n",
    "    X = titanic_data.loc[:, columns]\n",
    "    y = titanic_data.target\n",
    "\n",
    "    results = {'accuracy': [], 'precision': [], 'recall': [], 'f1': [], 'seconds': []}\n",
    "    for k in range(10):\n",
    "        if progress_bar:\n",
    "            print(f'Progress: {k + 1} / 10')\n",
    "        X_train, X_test, y_train, y_test = model_selection\\\n",
    "            .train_test_split(X, y, test_size=0.33, random_state=k)\n",
    "\n",
    "        model.fit(X_train, y_train)\n",
    "\n",
    "        s = datetime.now()\n",
    "        y_pred = model.predict(X_test)\n",
    "        f = datetime.now()\n",
    "\n",
    "        results['accuracy'].append(metrics.accuracy_score(y_test, y_pred))\n",
    "        results['precision'].append(metrics.precision_score(y_test, y_pred))\n",
    "        results['recall'].append(metrics.recall_score(y_test, y_pred))\n",
    "        results['f1'].append(metrics.f1_score(y_test, y_pred))\n",
    "        \n",
    "        results['seconds'].append((f - s).seconds)\n",
    "\n",
    "    return pd.DataFrame(results)"
   ]
  },
  {
   "cell_type": "markdown",
   "metadata": {},
   "source": [
    "### Lazy classification"
   ]
  },
  {
   "cell_type": "markdown",
   "metadata": {},
   "source": [
    "Найдем сначала перебором лучшие параметры для нашей модели, используя 10% от всего датасета при тренеровке моделей."
   ]
  },
  {
   "cell_type": "code",
   "execution_count": 12,
   "metadata": {},
   "outputs": [
    {
     "output_type": "stream",
     "name": "stdout",
     "text": [
      "\n",
      "Parameters: LazyFCA(random=True, sample_share=0.1, threshold=0.1)\n",
      "\n",
      "   accuracy  precision    recall        f1  seconds\n",
      "0  0.702128   0.609524  0.688172  0.646465        3\n",
      "1  0.527660   0.458101  0.854167  0.596364        2\n",
      "2  0.761702   0.701149  0.670330  0.685393        2\n",
      "3  0.791489   0.772152  0.663043  0.713450        3\n",
      "4  0.791489   0.773333  0.644444  0.703030        3\n",
      "5  0.574468   0.459459  0.772727  0.576271        3\n",
      "6  0.748936   0.672897  0.750000  0.709360        2\n",
      "7  0.634043   0.537879  0.739583  0.622807        2\n",
      "8  0.748936   0.679612  0.729167  0.703518        2\n",
      "9  0.591489   0.465753  0.790698  0.586207        3\n",
      "\n",
      "F1: 0.6542864431070503\n",
      "\n",
      "Parameters: LazyFCA(random=True, sample_share=0.1, threshold=0.30000000000000004)\n",
      "\n",
      "   accuracy  precision    recall        f1  seconds\n",
      "0  0.740426   0.710526  0.580645  0.639053        3\n",
      "1  0.719149   0.750000  0.468750  0.576923        3\n",
      "2  0.714894   0.671429  0.516484  0.583851        2\n",
      "3  0.710638   0.785714  0.358696  0.492537        3\n",
      "4  0.765957   0.721519  0.633333  0.674556        3\n",
      "5  0.778723   0.781250  0.568182  0.657895        4\n",
      "6  0.697872   0.790698  0.354167  0.489209        3\n",
      "7  0.787234   0.787500  0.656250  0.715909        3\n",
      "8  0.774468   0.747126  0.677083  0.710383        3\n",
      "9  0.787234   0.743243  0.639535  0.687500        3\n",
      "\n",
      "F1: 0.6227815763994476\n",
      "\n",
      "Parameters: LazyFCA(random=True, sample_share=0.1)\n",
      "\n",
      "   accuracy  precision    recall        f1  seconds\n",
      "0  0.765957   0.816667  0.526882  0.640523        2\n",
      "1  0.765957   0.741176  0.656250  0.696133        2\n",
      "2  0.719149   0.755102  0.406593  0.528571        2\n",
      "3  0.761702   0.764706  0.565217  0.650000        3\n",
      "4  0.702128   0.777778  0.311111  0.444444        2\n",
      "5  0.702128   0.781250  0.284091  0.416667        3\n",
      "6  0.680851   0.714286  0.364583  0.482759        3\n",
      "7  0.770213   0.800000  0.583333  0.674699        2\n",
      "8  0.736170   0.869565  0.416667  0.563380        3\n",
      "9  0.808511   0.815385  0.616279  0.701987        3\n",
      "\n",
      "F1: 0.5799162464712022\n",
      "\n",
      "Parameters: LazyFCA(random=True, sample_share=0.1, threshold=0.7000000000000001)\n",
      "\n",
      "   accuracy  precision    recall        f1  seconds\n",
      "0  0.731915   0.800000  0.430108  0.559441        2\n",
      "1  0.740426   0.761194  0.531250  0.625767        3\n",
      "2  0.736170   0.837209  0.395604  0.537313        3\n",
      "3  0.714894   0.662338  0.554348  0.603550        2\n",
      "4  0.774468   0.803279  0.544444  0.649007        3\n",
      "5  0.778723   0.810345  0.534091  0.643836        3\n",
      "6  0.753191   0.851852  0.479167  0.613333        2\n",
      "7  0.778723   0.814286  0.593750  0.686747        3\n",
      "8  0.689362   0.848485  0.291667  0.434109        3\n",
      "9  0.787234   0.846154  0.511628  0.637681        3\n",
      "\n",
      "F1: 0.5990783406092139\n",
      "\n",
      "Parameters: LazyFCA(random=True, sample_share=0.1, threshold=0.9)\n",
      "\n",
      "   accuracy  precision    recall        f1  seconds\n",
      "0  0.685106   0.594059  0.645161  0.618557        2\n",
      "1  0.676596   0.574627  0.802083  0.669565        3\n",
      "2  0.744681   0.670330  0.670330  0.670330        3\n",
      "3  0.770213   0.771429  0.586957  0.666667        3\n",
      "4  0.787234   0.756410  0.655556  0.702381        3\n",
      "5  0.804255   0.783784  0.659091  0.716049        3\n",
      "6  0.740426   0.649573  0.791667  0.713615        3\n",
      "7  0.765957   0.715789  0.708333  0.712042        3\n",
      "8  0.731915   0.761905  0.500000  0.603774        3\n",
      "9  0.791489   0.760563  0.627907  0.687898        3\n",
      "\n",
      "F1: 0.6760877172884138\n",
      "\n",
      "Parameters: LazyFCA(bias='positive', random=True, sample_share=0.1, threshold=0.1)\n",
      "\n",
      "   accuracy  precision    recall        f1  seconds\n",
      "0  0.770213   0.709677  0.709677  0.709677        3\n",
      "1  0.736170   0.634921  0.833333  0.720721        3\n",
      "2  0.757447   0.663462  0.758242  0.707692        3\n",
      "3  0.574468   0.478022  0.945652  0.635036        3\n",
      "4  0.587234   0.477707  0.833333  0.607287        4\n",
      "5  0.621277   0.496503  0.806818  0.614719        3\n",
      "6  0.625532   0.530769  0.718750  0.610619        3\n",
      "7  0.710638   0.609375  0.812500  0.696429        3\n",
      "8  0.570213   0.484076  0.791667  0.600791        3\n",
      "9  0.740426   0.631579  0.697674  0.662983        3\n",
      "\n",
      "F1: 0.6565954987933036\n",
      "\n",
      "Parameters: LazyFCA(bias='positive', random=True, sample_share=0.1,\n",
      "        threshold=0.30000000000000004)\n",
      "\n",
      "   accuracy  precision    recall        f1  seconds\n",
      "0  0.723404   0.818182  0.387097  0.525547        2\n",
      "1  0.761702   0.794118  0.562500  0.658537        3\n",
      "2  0.761702   0.796610  0.516484  0.626667        3\n",
      "3  0.744681   0.758065  0.510870  0.610390        3\n",
      "4  0.787234   0.900000  0.500000  0.642857        2\n",
      "5  0.740426   0.754717  0.454545  0.567376        4\n",
      "6  0.761702   0.750000  0.625000  0.681818        3\n",
      "7  0.817021   0.884058  0.635417  0.739394        3\n",
      "8  0.774468   0.772152  0.635417  0.697143        3\n",
      "9  0.723404   0.652174  0.523256  0.580645        3\n",
      "\n",
      "F1: 0.6330373476704871\n",
      "\n",
      "Parameters: LazyFCA(bias='positive', random=True, sample_share=0.1)\n",
      "\n",
      "   accuracy  precision    recall        f1  seconds\n",
      "0  0.744681   0.732394  0.559140  0.634146        3\n",
      "1  0.731915   0.779661  0.479167  0.593548        3\n",
      "2  0.719149   0.745098  0.417582  0.535211        3\n",
      "3  0.795745   0.923077  0.521739  0.666667        3\n",
      "4  0.812766   0.896552  0.577778  0.702703        3\n",
      "5  0.770213   0.869565  0.454545  0.597015        5\n",
      "6  0.608511   0.600000  0.125000  0.206897        5\n",
      "7  0.748936   0.803279  0.510417  0.624204        5\n",
      "8  0.740426   0.818182  0.468750  0.596026        4\n",
      "9  0.731915   0.629213  0.651163  0.640000        5\n",
      "\n",
      "F1: 0.579641715435474\n",
      "\n",
      "Parameters: LazyFCA(bias='positive', random=True, sample_share=0.1,\n",
      "        threshold=0.7000000000000001)\n",
      "\n",
      "   accuracy  precision    recall        f1  seconds\n",
      "0  0.757447   0.810345  0.505376  0.622517        3\n",
      "1  0.740426   0.727273  0.583333  0.647399        3\n",
      "2  0.719149   0.698413  0.483516  0.571429        3\n",
      "3  0.748936   0.726027  0.576087  0.642424        2\n",
      "4  0.731915   0.846154  0.366667  0.511628        2\n",
      "5  0.757447   0.682353  0.659091  0.670520        3\n",
      "6  0.736170   0.688889  0.645833  0.666667        3\n",
      "7  0.731915   0.663366  0.697917  0.680203        2\n",
      "8  0.770213   0.769231  0.625000  0.689655        2\n",
      "9  0.706383   1.000000  0.197674  0.330097        2\n",
      "\n",
      "F1: 0.6032538324409837\n",
      "\n",
      "Parameters: LazyFCA(bias='positive', random=True, sample_share=0.1, threshold=0.9)\n",
      "\n",
      "   accuracy  precision    recall        f1  seconds\n",
      "0  0.731915   0.674419  0.623656  0.648045        3\n",
      "1  0.723404   0.829787  0.406250  0.545455        3\n",
      "2  0.740426   0.720588  0.538462  0.616352        3\n",
      "3  0.731915   0.655914  0.663043  0.659459        4\n",
      "4  0.770213   0.772727  0.566667  0.653846        3\n",
      "5  0.757447   0.792453  0.477273  0.595745        3\n",
      "6  0.740426   0.872340  0.427083  0.573427        3\n",
      "7  0.753191   0.827586  0.500000  0.623377        3\n",
      "8  0.782979   0.784810  0.645833  0.708571        3\n",
      "9  0.774468   0.708861  0.651163  0.678788        3\n",
      "\n",
      "F1: 0.6303064237769018\n",
      "\n",
      "Parameters: LazyFCA(bias='negative', random=True, sample_share=0.1, threshold=0.1)\n",
      "\n",
      "   accuracy  precision    recall        f1  seconds\n",
      "0  0.740426   0.645455  0.763441  0.699507        2\n",
      "1  0.740426   0.710843  0.614583  0.659218        3\n",
      "2  0.736170   0.655914  0.670330  0.663043        4\n",
      "3  0.608511   0.500000  0.728261  0.592920        5\n",
      "4  0.753191   0.677778  0.677778  0.677778        4\n",
      "5  0.770213   0.697674  0.681818  0.689655        4\n",
      "6  0.765957   0.730337  0.677083  0.702703        4\n",
      "7  0.689362   0.596639  0.739583  0.660465        4\n",
      "8  0.710638   0.620690  0.750000  0.679245        3\n",
      "9  0.693617   0.568627  0.674419  0.617021        5\n",
      "\n",
      "F1: 0.664155642728866\n",
      "\n",
      "Parameters: LazyFCA(bias='negative', random=True, sample_share=0.1,\n",
      "        threshold=0.30000000000000004)\n",
      "\n",
      "   accuracy  precision    recall        f1  seconds\n",
      "0  0.727660   0.745763  0.473118  0.578947        3\n",
      "1  0.727660   0.750000  0.500000  0.600000        4\n",
      "2  0.736170   0.745763  0.483516  0.586667        4\n",
      "3  0.757447   0.746479  0.576087  0.650307        2\n",
      "4  0.787234   0.777778  0.622222  0.691358        3\n",
      "5  0.782979   0.784615  0.579545  0.666667        3\n",
      "6  0.748936   0.717647  0.635417  0.674033        3\n",
      "7  0.672340   0.581197  0.708333  0.638498        3\n",
      "8  0.778723   0.823529  0.583333  0.682927        3\n",
      "9  0.753191   0.818182  0.418605  0.553846        4\n",
      "\n",
      "F1: 0.632324925977988\n",
      "\n",
      "Parameters: LazyFCA(bias='negative', random=True, sample_share=0.1)\n",
      "\n",
      "   accuracy  precision    recall        f1  seconds\n",
      "0  0.727660   0.745763  0.473118  0.578947        3\n",
      "1  0.757447   0.767123  0.583333  0.662722        3\n",
      "2  0.719149   0.650602  0.593407  0.620690        3\n",
      "3  0.719149   0.770833  0.402174  0.528571        3\n",
      "4  0.689362   0.774194  0.266667  0.396694        3\n",
      "5  0.787234   0.839286  0.534091  0.652778        3\n",
      "6  0.706383   0.714286  0.468750  0.566038        3\n",
      "7  0.778723   0.768293  0.656250  0.707865        3\n",
      "8  0.778723   0.866667  0.541667  0.666667        3\n",
      "9  0.782979   0.888889  0.465116  0.610687        3\n",
      "\n",
      "F1: 0.5991658932265643\n",
      "\n",
      "Parameters: LazyFCA(bias='negative', random=True, sample_share=0.1,\n",
      "        threshold=0.7000000000000001)\n",
      "\n",
      "   accuracy  precision    recall        f1  seconds\n",
      "0  0.770213   0.729412  0.666667  0.696629        3\n",
      "1  0.774468   0.830769  0.562500  0.670807        3\n",
      "2  0.723404   0.732143  0.450549  0.557823        3\n",
      "3  0.702128   0.610000  0.663043  0.635417        3\n",
      "4  0.774468   0.836364  0.511111  0.634483        3\n",
      "5  0.761702   0.728571  0.579545  0.645570        3\n",
      "6  0.744681   0.781250  0.520833  0.625000        3\n",
      "7  0.791489   0.840580  0.604167  0.703030        3\n",
      "8  0.748936   0.776119  0.541667  0.638037        3\n",
      "9  0.795745   0.779412  0.616279  0.688312        4\n",
      "\n",
      "F1: 0.6495107642849458\n",
      "\n",
      "Parameters: LazyFCA(bias='negative', random=True, sample_share=0.1, threshold=0.9)\n",
      "\n",
      "   accuracy  precision    recall        f1  seconds\n",
      "0  0.685106   0.806452  0.268817  0.403226        3\n",
      "1  0.761702   0.750000  0.625000  0.681818        3\n",
      "2  0.757447   0.702381  0.648352  0.674286        3\n",
      "3  0.663830   0.561905  0.641304  0.598985        3\n",
      "4  0.753191   0.695122  0.633333  0.662791        3\n",
      "5  0.753191   0.666667  0.681818  0.674157        3\n",
      "6  0.736170   0.803571  0.468750  0.592105        3\n",
      "7  0.791489   0.747368  0.739583  0.743455        3\n",
      "8  0.727660   0.750000  0.500000  0.600000        3\n",
      "9  0.740426   0.671233  0.569767  0.616352        4\n",
      "\n",
      "F1: 0.6247175436972273\n"
     ]
    }
   ],
   "source": [
    "for i in ['random', 'positive', 'negative']:\n",
    "    for j in np.linspace(0.1, 0.9, 5):\n",
    "        model = LazyFCA(threshold=j, bias=i, random=True, sample_share=0.1)\n",
    "        res = titanc(model)\n",
    "        print()\n",
    "        print('Parameters:', model)\n",
    "        print()\n",
    "\n",
    "        print(res)\n",
    "        print()\n",
    "        print('F1:', res['f1'].mean())"
   ]
  },
  {
   "cell_type": "markdown",
   "metadata": {},
   "source": [
    "Лучшими по $F_1$ метрике оказались параметры `bias` $=$ `random` и `threshold` $=0.9$. Запустим нашу модель на всех данных, используя эти параметры."
   ]
  },
  {
   "cell_type": "code",
   "execution_count": 15,
   "metadata": {},
   "outputs": [
    {
     "output_type": "stream",
     "name": "stdout",
     "text": [
      "   accuracy  precision    recall        f1  seconds\n0  0.765957   0.796875  0.548387  0.649682       52\n1  0.774468   0.811594  0.583333  0.678788       51\n2  0.761702   0.753623  0.571429  0.650000       61\n3  0.761702   0.750000  0.586957  0.658537       58\n4  0.787234   0.794118  0.600000  0.683544       70\n5  0.787234   0.779412  0.602273  0.679487       58\n6  0.748936   0.793651  0.520833  0.628931       56\n7  0.795745   0.852941  0.604167  0.707317       52\n8  0.774468   0.786667  0.614583  0.690058       62\n9  0.812766   0.850000  0.593023  0.698630       57\n\nF1: 0.672497398340006\n"
     ]
    }
   ],
   "source": [
    "model = LazyFCA(threshold=0.9, bias='random')\n",
    "res = titanc(model)\n",
    "\n",
    "print(res)\n",
    "print()\n",
    "print('F1:', res['f1'].mean())"
   ]
  },
  {
   "cell_type": "markdown",
   "metadata": {},
   "source": [
    "### Logistic regression"
   ]
  },
  {
   "cell_type": "markdown",
   "metadata": {},
   "source": [
    "Сравним теперь результаты `Lazy FCA` с классической моделью логистической регрессии."
   ]
  },
  {
   "cell_type": "code",
   "execution_count": 16,
   "metadata": {},
   "outputs": [
    {
     "output_type": "stream",
     "name": "stdout",
     "text": [
      "   accuracy  precision    recall        f1  seconds\n0  0.753191   0.684211  0.698925  0.691489        0\n1  0.770213   0.710000  0.739583  0.724490        0\n2  0.765957   0.691489  0.714286  0.702703        0\n3  0.778723   0.738095  0.673913  0.704545        0\n4  0.791489   0.735632  0.711111  0.723164        0\n5  0.787234   0.711111  0.727273  0.719101        0\n6  0.748936   0.703297  0.666667  0.684492        0\n7  0.808511   0.800000  0.708333  0.751381        0\n8  0.787234   0.734694  0.750000  0.742268        0\n9  0.795745   0.720930  0.720930  0.720930        0\n\nF1: 0.716456374814656\n"
     ]
    }
   ],
   "source": [
    "model = LogisticRegression(solver='lbfgs', random_state=0)\n",
    "res = titanc(model)\n",
    "\n",
    "print(res)\n",
    "print()\n",
    "print('F1:', res['f1'].mean())"
   ]
  },
  {
   "cell_type": "markdown",
   "metadata": {},
   "source": [
    "К сожалению, наш алгоритм, даже использующий весь датасет, не смог обойти по $F_1$ метрике логистическую регрессию."
   ]
  }
 ],
 "metadata": {
  "kernelspec": {
   "display_name": "Python 3",
   "language": "python",
   "name": "python3"
  },
  "language_info": {
   "codemirror_mode": {
    "name": "ipython",
    "version": 3
   },
   "file_extension": ".py",
   "mimetype": "text/x-python",
   "name": "python",
   "nbconvert_exporter": "python",
   "pygments_lexer": "ipython3",
   "version": "3.9.0-final"
  }
 },
 "nbformat": 4,
 "nbformat_minor": 2
}